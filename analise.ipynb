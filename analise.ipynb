{
 "cells": [
  {
   "cell_type": "code",
   "execution_count": null,
   "id": "26fd5c76",
   "metadata": {},
   "outputs": [
    {
     "data": {
      "text/plain": [
       "\"/home/pedro/Desktop/exp3.6/latex/figuras/grafico_diferenca_potencial - 2.png\""
      ]
     },
     "execution_count": 32,
     "metadata": {},
     "output_type": "execute_result"
    }
   ],
   "source": [
    "using Plots\n",
    "using CSV\n",
    "using DataFrames\n",
    "using Statistics\n",
    "\n",
    "dados = CSV.read(\"dados2/ALL0002/F0002CH1.CSV\", DataFrame)\n",
    "\n",
    "tempo = dados[!, 4]\n",
    "voltagem = dados[!, 5]\n",
    "\n",
    "plot(tempo, voltagem, label=\"DDP\", xlabel=\"Tempo (s)\", ylabel=\"DDP (V)\", title=\"Gráfico de DDP vs Tempo - Sem o Núcleo\", legend=:topright, grid=true, linewidth=2, color=:seagreen)\n",
    "\n",
    "# Save the plot as a PNG file\n",
    "savefig(\"latex/figuras/grafico_diferenca_potencial - 2.png\")"
   ]
  },
  {
   "cell_type": "code",
   "execution_count": 77,
   "id": "36eb8934",
   "metadata": {},
   "outputs": [
    {
     "data": {
      "text/plain": [
       "trapezio (generic function with 1 method)"
      ]
     },
     "execution_count": 77,
     "metadata": {},
     "output_type": "execute_result"
    }
   ],
   "source": [
    "function trapezio(x, y, x0, xN, y_min)\n",
    "    mask = (x .>= x0) .& (x .<= xN) .& (y .>= y_min)\n",
    "    if sum(mask) < 3\n",
    "        return 0.0\n",
    "    end\n",
    "\n",
    "    xf = x[mask]\n",
    "    yf = y[mask]\n",
    "    dx = xf[2] - xf[1]\n",
    "    integral = (yf[1] + yf[end]) * dx / 2\n",
    "    integral += sum(yf[2:end-1]) * dx\n",
    "    return integral\n",
    "end"
   ]
  },
  {
   "cell_type": "code",
   "execution_count": 78,
   "id": "09832fb7",
   "metadata": {},
   "outputs": [
    {
     "name": "stdout",
     "output_type": "stream",
     "text": [
      "Média e Desvio Padrão dos Dados:\n",
      "Fluxo 1: Média = 9.577874285714288e-5, Desvio Padrão = 3.888470644873105e-7\n",
      "Fluxo 2: Média = 2.7103166666666646e-8, Desvio Padrão = 9.338372286950961e-10\n",
      "fluxo 3: Média = 5.604750769230774e-7, Desvio Padrão = 1.651138937451705e-8\n",
      "Permeabilidade Relativa (mu_r) = 20.67932075303911\n",
      "Permeabilidade do Material (mu) = 2.598640086358985e-5 T·m/A\n"
     ]
    }
   ],
   "source": [
    "N = 10000  # Número de voltas da bobina\n",
    "area = 2.5e-3\n",
    "comprimento = 7.0e-2\n",
    "\n",
    "\n",
    "function integra_diretorio(diretorio; fator_v=1.0, x0=0, xN=1, y_min=-0.1)\n",
    "    integrals = Float64[]\n",
    "    for (root, _, files) in walkdir(diretorio)\n",
    "        for f in files\n",
    "            if endswith(f, \".CSV\")\n",
    "                path = joinpath(root, f)\n",
    "                df   = CSV.read(path, DataFrame)\n",
    "                t    = df[!, 4] # tempo (já em segundos não precisa converter)\n",
    "                v    = df[!, 5] .* fator_v # aplica fator de escala\n",
    "\n",
    "                I = trapezio(t, v, x0, xN, y_min * fator_v)\n",
    "                push!(integrals, I)\n",
    "                #println(\"[$(basename(root))/$(f)]: Integral = $(round(I, digits=5))\")\n",
    "            end\n",
    "        end\n",
    "    end\n",
    "    return integrals\n",
    "end\n",
    "\n",
    "# Chamada da função com cada diretório\n",
    "dados1 = integra_diretorio(\"dados1\"; fator_v=2, x0=0, xN=1, y_min=-1)\n",
    "dados2 = integra_diretorio(\"dados2\"; fator_v=0.05, x0=0, xN=1, y_min=-0.05)\n",
    "dados3 = integra_diretorio(\"dados3\"; fator_v=0.2, x0=0, xN=1, y_min=-0.1)\n",
    "\n",
    "fluxo1 = dados1 / N\n",
    "fluxo2 = dados2 / N\n",
    "fluxo3 = dados3 / N\n",
    "\n",
    "# Cálculo da média e desvio padrão\n",
    "media1 = mean(fluxo1)\n",
    "desvio1 = std(fluxo1)\n",
    "media2 = mean(fluxo2)\n",
    "desvio2 = std(fluxo2)\n",
    "media3 = mean(fluxo3)\n",
    "desvio3 = std(fluxo3)\n",
    "\n",
    "# Exibição dos resultados\n",
    "println(\"Média e Desvio Padrão dos Dados:\")\n",
    "println(\"Fluxo 1: Média = $(media1), Desvio Padrão = $(desvio1)\")\n",
    "println(\"Fluxo 2: Média = $(media2), Desvio Padrão = $(desvio2)\")\n",
    "println(\"fluxo 3: Média = $(media3), Desvio Padrão = $(desvio3)\")\n",
    "\n",
    "# Permeabilidade relativa\n",
    "mu_r = media3 / media2\n",
    "println(\"Permeabilidade Relativa (mu_r) = $(mu_r)\")\n",
    "\n",
    "# Permeabilidade\n",
    "mu_0 = 4 * pi * 1e-7\n",
    "mu = mu_r * mu_0\n",
    "println(\"Permeabilidade do Material (mu) = $(mu) T·m/A\")"
   ]
  },
  {
   "cell_type": "code",
   "execution_count": 79,
   "id": "427585fb",
   "metadata": {},
   "outputs": [
    {
     "name": "stdout",
     "output_type": "stream",
     "text": [
      "Incertezas:\n",
      "Fluxo 1: Incerteza = 1.0392374936887917e-7\n",
      "Fluxo 2: Incerteza = 2.6957558768320397e-10\n",
      "Fluxo 3: Incerteza = 4.579435462997886e-9\n",
      "Campo Magnético (B_0_imã) = 0.03831149714285715 T\n",
      "Incerteza do Campo Magnético (B_0_imã_err) = 4.1569499747551665e-5 T\n",
      "Campo Magnético (B_0) = 1.0841266666666659e-5 T\n",
      "Incerteza do Campo Magnético (B_0_err) = 1.0783023507328158e-7 T\n",
      "Campo Magnético (B) = 0.00022419003076923097 T\n",
      "Incerteza do Campo Magnético (B_err) = 1.8317741851991542e-6 T\n"
     ]
    }
   ],
   "source": [
    "# Incertezas\n",
    "fluxo1_err = desvio1 / sqrt(length(fluxo1))\n",
    "fluxo2_err = desvio2 / sqrt(length(fluxo2))\n",
    "fluxo3_err = desvio3 / sqrt(length(fluxo3))\n",
    "println(\"Incertezas:\")\n",
    "println(\"Fluxo 1: Incerteza = $(fluxo1_err)\")\n",
    "println(\"Fluxo 2: Incerteza = $(fluxo2_err)\")\n",
    "println(\"Fluxo 3: Incerteza = $(fluxo3_err)\")\n",
    "\n",
    "# Campo magnético imã\n",
    "B_0_ima = media1 / area\n",
    "println(\"Campo Magnético (B_0_imã) = $(B_0_ima) T\")\n",
    "# Incerteza do campo magnético imã\n",
    "B_0_ima_err = fluxo1_err / area\n",
    "println(\"Incerteza do Campo Magnético (B_0_imã_err) = $(B_0_ima_err) T\")\n",
    "\n",
    "# Campo magnético ar \n",
    "B_0 = media2 / area\n",
    "println(\"Campo Magnético (B_0) = $(B_0) T\")\n",
    "# Incerteza do campo magnético ar\n",
    "B_0_err = fluxo2_err / area\n",
    "println(\"Incerteza do Campo Magnético (B_0_err) = $(B_0_err) T\")\n",
    "\n",
    "# Campo magnético barra de ferro\n",
    "B_material = media3 / area\n",
    "println(\"Campo Magnético (B) = $(B_material) T\")\n",
    "# Incerteza do campo magnético barra de ferro\n",
    "B_material_err = fluxo3_err / area\n",
    "println(\"Incerteza do Campo Magnético (B_err) = $(B_err) T\")\n",
    "\n"
   ]
  },
  {
   "cell_type": "code",
   "execution_count": 80,
   "id": "a10a5062",
   "metadata": {},
   "outputs": [
    {
     "name": "stdout",
     "output_type": "stream",
     "text": [
      "[ALL0000/F0000CH1.CSV]: Integral = 0.0287 ± 4.3e-10\n",
      "[ALL0001/F0001CH1.CSV]: Integral = 0.0283 ± 4.2e-10\n",
      "[ALL0002/F0002CH1.CSV]: Integral = 0.0289 ± 4.3e-10\n",
      "[ALL0003/F0003CH1.CSV]: Integral = 0.0288 ± 4.3e-10\n",
      "[ALL0004/F0004CH1.CSV]: Integral = 0.0278 ± 4.1e-10\n",
      "[ALL0005/F0005CH1.CSV]: Integral = 0.027 ± 4.0e-10\n",
      "[ALL0006/F0006CH1.CSV]: Integral = 0.0273 ± 4.1e-10\n",
      "[ALL0007/F0007CH1.CSV]: Integral = 0.0276 ± 4.1e-10\n",
      "[ALL0008/F0008CH1.CSV]: Integral = 0.0276 ± 4.1e-10\n",
      "[ALL0009/F0009CH1.CSV]: Integral = 0.0275 ± 4.1e-10\n",
      "[ALL0010/F0010CH1.CSV]: Integral = 0.0276 ± 4.1e-10\n",
      "[ALL0011/F0011CH1.CSV]: Integral = 0.0273 ± 4.1e-10\n",
      "[ALL0012/F0012CH1.CSV]: Integral = 0.0299 ± 4.4e-10\n"
     ]
    }
   ],
   "source": [
    "# Mesmo cálculo, mas usando Interpolations e QuadGK\n",
    "using Interpolations, QuadGK\n",
    "\n",
    "x0, xN, y_min = 0, 1, -0.1\n",
    "\n",
    "for (root, _, files) in walkdir(\"dados3\")\n",
    "    for f in files\n",
    "        if endswith(f, \".CSV\")\n",
    "            path = joinpath(root, f)\n",
    "            df   = CSV.read(path, DataFrame)\n",
    "            t    = df[!, 4]\n",
    "            v    = df[!, 5]\n",
    "\n",
    "            itp = LinearInterpolation(t, v; extrapolation_bc=0)\n",
    "\n",
    "            f_int(x) = (val = itp(x); val >= y_min ? val : 0)\n",
    "            I, err = quadgk(f_int, x0, xN)\n",
    "\n",
    "            println(\"[$(basename(root))/$(f)]: Integral = $(round(I, digits=4)) ± $(round(err, digits=11))\")\n",
    "        end\n",
    "    end\n",
    "end"
   ]
  },
  {
   "cell_type": "code",
   "execution_count": 40,
   "id": "1e5585e7",
   "metadata": {},
   "outputs": [],
   "source": [
    "using Plots, CSV, DataFrames, Printf\n",
    "\n",
    "# Mapeamento dos títulos para cada pasta\n",
    "titulos = Dict(\n",
    "    \"dados1\" => \"Imã\",\n",
    "    \"dados2\" => \"Sem Núcleo\",\n",
    "    \"dados3\" => \"Núcleo de Ferro\"\n",
    ")\n",
    "\n",
    "# Lista para armazenar comandos LaTeX das figuras\n",
    "figuras_latex = String[]\n",
    "\n",
    "# Gera os gráficos e prepara LaTeX\n",
    "for pasta in [\"dados1\", \"dados2\", \"dados3\"]\n",
    "    for (root, _, files) in walkdir(pasta)\n",
    "        for f in files\n",
    "            if endswith(f, \".CSV\")\n",
    "                path = joinpath(root, f)\n",
    "                dados = CSV.read(path, DataFrame)\n",
    "                tempo = dados[!, 4]\n",
    "                voltagem = dados[!, 5]\n",
    "\n",
    "                # Título e nome do arquivo\n",
    "                titulo = titulos[pasta]\n",
    "                nome_base = @sprintf \"grafico_%s_%s.png\" basename(pasta) splitext(f)[1]\n",
    "                caminho_fig = \"latex/figuras/$(nome_base)\"\n",
    "\n",
    "                # Gera e salva o gráfico\n",
    "                plot(tempo, voltagem, label=\"DDP\", xlabel=\"Tempo (s)\", ylabel=\"DDP (V)\",\n",
    "                     title=\"Gráfico de DDP vs Tempo - $titulo\",\n",
    "                     legend=:topright, grid=true, linewidth=2, color=:seagreen)\n",
    "                savefig(caminho_fig)\n",
    "\n",
    "                # Adiciona entrada LaTeX SEM caption\n",
    "                push!(figuras_latex, \"\"\"\n",
    "\\\\begin{figure}[H]\n",
    "    \\\\centering\n",
    "    \\\\includegraphics[width=0.45\\\\linewidth]{$(caminho_fig)}\n",
    "\\\\end{figure}\n",
    "\"\"\")\n",
    "            end\n",
    "        end\n",
    "    end\n",
    "end\n",
    "\n",
    "# Gera o arquivo LaTeX para ser incluído via \\\\input em outro .tex\n",
    "open(\"latex/graficos.tex\", \"w\") do io\n",
    "    println(io, \"\"\"\n",
    "\\\\section*{Gráficos de DDP vs Tempo}\n",
    "\\\\begin{center}\n",
    "\\\\begin{multicols}{2}\n",
    "\"\"\")\n",
    "    for fig in figuras_latex\n",
    "        println(io, fig)\n",
    "    end\n",
    "    println(io, \"\"\"\n",
    "\\\\end{multicols}\n",
    "\\\\end{center}\n",
    "\"\"\")\n",
    "end"
   ]
  }
 ],
 "metadata": {
  "kernelspec": {
   "display_name": "Julia 1.11.5",
   "language": "julia",
   "name": "julia-1.11"
  },
  "language_info": {
   "file_extension": ".jl",
   "mimetype": "application/julia",
   "name": "julia",
   "version": "1.11.5"
  }
 },
 "nbformat": 4,
 "nbformat_minor": 5
}
